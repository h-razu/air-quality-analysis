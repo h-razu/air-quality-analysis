{
  "nbformat": 4,
  "nbformat_minor": 0,
  "metadata": {
    "colab": {
      "provenance": [],
      "authorship_tag": "ABX9TyOSBLuPujyKTl62QX8MG3u5",
      "include_colab_link": true
    },
    "kernelspec": {
      "name": "python3",
      "display_name": "Python 3"
    },
    "language_info": {
      "name": "python"
    }
  },
  "cells": [
    {
      "cell_type": "markdown",
      "metadata": {
        "id": "view-in-github",
        "colab_type": "text"
      },
      "source": [
        "<a href=\"https://colab.research.google.com/github/h-razu/air-quality-analysis/blob/main/air_quality_analysis.ipynb\" target=\"_parent\"><img src=\"https://colab.research.google.com/assets/colab-badge.svg\" alt=\"Open In Colab\"/></a>"
      ]
    },
    {
      "cell_type": "markdown",
      "source": [
        "### Import the Required Library"
      ],
      "metadata": {
        "id": "3B0a5BuYKtiX"
      }
    },
    {
      "cell_type": "code",
      "execution_count": 1,
      "metadata": {
        "id": "jGVSyCjnKP6Y"
      },
      "outputs": [],
      "source": [
        "import pandas as pd\n",
        "import numpy as np"
      ]
    },
    {
      "cell_type": "markdown",
      "source": [
        "### Mount Google Drive and Load the Datasets"
      ],
      "metadata": {
        "id": "aUfsMqsBK6lQ"
      }
    },
    {
      "cell_type": "code",
      "source": [
        "from google.colab import drive\n",
        "drive.mount('/content/drive')"
      ],
      "metadata": {
        "colab": {
          "base_uri": "https://localhost:8080/"
        },
        "id": "1Hdgu7-AK_En",
        "outputId": "6f7ffda8-d339-46f9-d7c7-b67a1775f6b5"
      },
      "execution_count": 2,
      "outputs": [
        {
          "output_type": "stream",
          "name": "stdout",
          "text": [
            "Mounted at /content/drive\n"
          ]
        }
      ]
    },
    {
      "cell_type": "code",
      "source": [
        "%cd '/content/drive/MyDrive/datasets/assessment_datasets'"
      ],
      "metadata": {
        "colab": {
          "base_uri": "https://localhost:8080/"
        },
        "id": "fjBS-OHHLOc1",
        "outputId": "2fab86dd-0d6a-4af0-f935-6f70bffabb62"
      },
      "execution_count": 5,
      "outputs": [
        {
          "output_type": "stream",
          "name": "stdout",
          "text": [
            "/content/drive/MyDrive/datasets/assessment_datasets\n"
          ]
        }
      ]
    },
    {
      "cell_type": "code",
      "source": [
        "%ls"
      ],
      "metadata": {
        "colab": {
          "base_uri": "https://localhost:8080/"
        },
        "id": "yp_j5AbxL9ER",
        "outputId": "80036ae4-fa22-45d7-cff0-ef030d41677f"
      },
      "execution_count": 6,
      "outputs": [
        {
          "output_type": "stream",
          "name": "stdout",
          "text": [
            "air_quality_data_combined.csv                 PRSA_Data_Gucheng_20130301-20170228.csv\n",
            "combined_output.csv                           PRSA_Data_Huairou_20130301-20170228.csv\n",
            "PRSA_Data_Aotizhongxin_20130301-20170228.csv  PRSA_Data_Nongzhanguan_20130301-20170228.csv\n",
            "PRSA_Data_Changping_20130301-20170228.csv     PRSA_Data_Shunyi_20130301-20170228.csv\n",
            "PRSA_Data_Dingling_20130301-20170228.csv      PRSA_Data_Tiantan_20130301-20170228.csv\n",
            "PRSA_Data_Dongsi_20130301-20170228.csv        PRSA_Data_Wanliu_20130301-20170228.csv\n",
            "PRSA_Data_Guanyuan_20130301-20170228.csv      PRSA_Data_Wanshouxigong_20130301-20170228.csv\n"
          ]
        }
      ]
    },
    {
      "cell_type": "code",
      "source": [
        "#read the each file and combine them\n",
        "import glob\n",
        "\n",
        "# Get all CSV files in the folder\n",
        "csv_files = glob.glob(\"/content/drive/MyDrive/datasets/assessment_datasets/*.csv\")\n",
        "\n",
        "# Read and combine all CSV files\n",
        "combined_df = pd.concat([pd.read_csv(file) for file in csv_files], ignore_index=True)\n",
        "\n",
        "# Save to a new CSV file\n",
        "combined_df.to_csv(\"air_quality_data_combined.csv\", index=False)\n",
        "\n",
        "print(\"All CSV files have been merged into 'air_quality_data_combined.csv'.\")\n"
      ],
      "metadata": {
        "colab": {
          "base_uri": "https://localhost:8080/"
        },
        "id": "lJgAGlhJLn5o",
        "outputId": "8bc75290-b476-479c-99f7-d9a4c76386fa"
      },
      "execution_count": 4,
      "outputs": [
        {
          "output_type": "stream",
          "name": "stdout",
          "text": [
            "All CSV files have been merged into 'air_quality_data_combined.csv'.\n"
          ]
        }
      ]
    }
  ]
}